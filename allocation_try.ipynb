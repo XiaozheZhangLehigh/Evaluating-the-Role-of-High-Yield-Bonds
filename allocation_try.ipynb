{
 "cells": [
  {
   "cell_type": "code",
   "execution_count": 1,
   "metadata": {},
   "outputs": [
    {
     "name": "stderr",
     "output_type": "stream",
     "text": [
      "c:\\Users\\josh\\AppData\\Local\\Programs\\Python\\Python312\\Lib\\site-packages\\pyfolio\\pos.py:25: UserWarning: Module \"zipline.assets\" not found; multipliers will not be applied to position notionals.\n",
      "  warnings.warn(\n"
     ]
    }
   ],
   "source": [
    "from Rebalancing_function import rebalance_portfolio\n",
    "import pandas as pd\n",
    "import yfinance as yf"
   ]
  },
  {
   "cell_type": "code",
   "execution_count": null,
   "metadata": {},
   "outputs": [],
   "source": [
    "# Simple Tryout not logical, but the result make sense\n",
    "\n",
    "# Define portfolio allocations\n",
    "allocations_A = {'Equities': 0.50, 'HighYieldBonds': 0.00, 'InvGradeBonds': 0.50}\n",
    "allocations_B = {'Equities': 0.40, 'HighYieldBonds': 0.10, 'InvGradeBonds': 0.50}\n",
    "allocations_C = {'Equities': 0.50, 'HighYieldBonds': 0.10, 'InvGradeBonds': 0.40}\n",
    "allocations_D = {'Equities': 0.45, 'HighYieldBonds': 0.10, 'InvGradeBonds': 0.45}\n",
    "\n",
    "# Create a DataFrame using the allocation variables\n",
    "allocations_df = pd.DataFrame({\n",
    "    'Asset': ['Equities', 'HighYieldBonds', 'InvGradeBonds'],\n",
    "    'ETFs': ['SPY', 'JNK', 'AGG'],\n",
    "    'Allocation_A': [allocations_A['Equities'], allocations_A['HighYieldBonds'], allocations_A['InvGradeBonds']],\n",
    "    'Allocation_B': [allocations_B['Equities'], allocations_B['HighYieldBonds'], allocations_B['InvGradeBonds']],\n",
    "    'Allocation_C': [allocations_C['Equities'], allocations_C['HighYieldBonds'], allocations_C['InvGradeBonds']],\n",
    "    'Allocation_D': [allocations_D['Equities'], allocations_D['HighYieldBonds'], allocations_D['InvGradeBonds']]\n",
    "})\n",
    "\n",
    "allocations_df"
   ]
  },
  {
   "cell_type": "code",
   "execution_count": null,
   "metadata": {},
   "outputs": [],
   "source": [
    "stocks = allocations_df[['ETFs']].values.flatten().tolist()\n",
    "weights = allocations_df[['Allocation_B']].values.flatten().tolist()\n",
    "stock_data = yf.download(stocks, start='2010-06-14', end='2024-06-14')['Adj Close']\n",
    "portfolio_value = 10**6"
   ]
  },
  {
   "cell_type": "code",
   "execution_count": null,
   "metadata": {},
   "outputs": [],
   "source": [
    "rebalance_portfolio(stocks, weights, stock_data, portfolio_value)"
   ]
  }
 ],
 "metadata": {
  "kernelspec": {
   "display_name": "Python 3",
   "language": "python",
   "name": "python3"
  },
  "language_info": {
   "codemirror_mode": {
    "name": "ipython",
    "version": 3
   },
   "file_extension": ".py",
   "mimetype": "text/x-python",
   "name": "python",
   "nbconvert_exporter": "python",
   "pygments_lexer": "ipython3",
   "version": "3.12.3"
  }
 },
 "nbformat": 4,
 "nbformat_minor": 2
}
