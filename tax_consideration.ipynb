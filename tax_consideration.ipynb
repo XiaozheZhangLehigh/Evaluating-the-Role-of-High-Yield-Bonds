{
 "cells": [
  {
   "cell_type": "code",
   "execution_count": 1,
   "metadata": {},
   "outputs": [
    {
     "name": "stderr",
     "output_type": "stream",
     "text": [
      "c:\\Users\\josh\\AppData\\Local\\Programs\\Python\\Python312\\Lib\\site-packages\\pyfolio\\pos.py:25: UserWarning: Module \"zipline.assets\" not found; multipliers will not be applied to position notionals.\n",
      "  warnings.warn(\n"
     ]
    }
   ],
   "source": [
    "# Selecting libraries\n",
    "import nbformat\n",
    "import yfinance as yf\n",
    "import pandas as pd\n",
    "import numpy as np\n",
    "import pyfolio as py\n",
    "import plotly.graph_objs as go\n",
    "from plotly.subplots import make_subplots\n",
    "import warnings\n",
    "import matplotlib.pyplot as plt\n",
    "import seaborn as sns\n",
    "from matplotlib.ticker import FuncFormatter\n",
    "warnings.filterwarnings(\"ignore\")"
   ]
  },
  {
   "cell_type": "code",
   "execution_count": 2,
   "metadata": {},
   "outputs": [],
   "source": [
    "# backtesting each strategy with considering taxation\n",
    "# Semi-Annualy rebalanced portfolio"
   ]
  },
  {
   "cell_type": "code",
   "execution_count": null,
   "metadata": {},
   "outputs": [],
   "source": [
    "# taxable accounts: nonretirement, non-tax-sheltered account"
   ]
  },
  {
   "cell_type": "markdown",
   "metadata": {},
   "source": [
    "From a pure tax-management standpoint, the “right” asset-location answers seem simple. Bonds spin off\n",
    "regular income payments that are taxed at ordinary tax rates, while the dividend payments from equities\n",
    "and equity funds are taxed at the same lower rates that apply to long-term capital gains, provided the\n",
    "dividends are qualified. From that perspective, **fixed-income securities make the most sense in taxsheltered accounts, where their regular distributions can be reinvested and compounded without\n",
    "taxation until withdrawal time, while equities are better suited for taxable accounts.** "
   ]
  },
  {
   "cell_type": "markdown",
   "metadata": {},
   "source": [
    "Option 1:\n",
    "- Tax-Sheltered Account: High-Yield Bonds, Equities\n",
    "- Taxable Account: Investment-Grade Bonds\n",
    "\n",
    "Option 2: #\n",
    "- Tax-Sheltered Account: High-Yield Bonds, Investment-Grade Bonds\n",
    "- Taxable Account: Equities\n",
    "\n",
    "Option 3:\n",
    "- Tax-Sheltered Account: Equities, Investment-Grade Bonds\n",
    "- Taxable Account: High-Yield Bonds\n",
    "\n",
    "Option 4: #\n",
    "- Tax-Sheltered Account: High-Yield Bonds\n",
    "- Taxable Account: Equities, Investment-Grade Bonds\n",
    "\n",
    "Option 5:\n",
    "- Tax-Sheltered Account: Equities\n",
    "- Taxable Account: High-Yield Bonds, Investment-Grade Bonds\n",
    "\n",
    "Option 6:\n",
    "- Tax-Sheltered Account: Investment-Grade Bonds\n",
    "- Taxable Account: High-Yield Bonds, Equities\n"
   ]
  },
  {
   "cell_type": "markdown",
   "metadata": {},
   "source": [
    "From different allocation in different types of account, we can target on the investor types\n",
    "\n",
    "- taxable brokerage account and a taxsheltered 401(k) account"
   ]
  },
  {
   "cell_type": "markdown",
   "metadata": {},
   "source": [
    "Internal Revenue Service. for tax consideration\n",
    "\n",
    "\n",
    "- Health Savings Accounts (HSA)\n",
    "- 401K\n",
    "- Roth IRA\n",
    "- Taxable"
   ]
  },
  {
   "cell_type": "markdown",
   "metadata": {},
   "source": [
    "Taxable Growth Prioritized: This scenario focuses on maximizing growth in the taxable account by holding more equities there and using tax-deferred assets to hold bonds. The taxable account starts entirely in equities, while the tax-deferred account balances with bonds.\n",
    "\n",
    "Tax-Deferred Growth Prioritized: This scenario focuses on maximizing growth in the tax-deferred account by holding more equities there and using the taxable account to hold bonds. The tax-deferred account starts entirely in equities, while the taxable account balances with bonds.\n",
    "\n",
    "Balanced: This scenario evenly splits the equities and bonds between the taxable and tax-deferred accounts, aiming for a balanced approach. Both accounts hold a mix of equities and bonds, equally divided."
   ]
  },
  {
   "cell_type": "code",
   "execution_count": 3,
   "metadata": {},
   "outputs": [
    {
     "data": {
      "text/html": [
       "<div>\n",
       "<style scoped>\n",
       "    .dataframe tbody tr th:only-of-type {\n",
       "        vertical-align: middle;\n",
       "    }\n",
       "\n",
       "    .dataframe tbody tr th {\n",
       "        vertical-align: top;\n",
       "    }\n",
       "\n",
       "    .dataframe thead th {\n",
       "        text-align: right;\n",
       "    }\n",
       "</style>\n",
       "<table border=\"1\" class=\"dataframe\">\n",
       "  <thead>\n",
       "    <tr style=\"text-align: right;\">\n",
       "      <th></th>\n",
       "      <th>Asset</th>\n",
       "      <th>Index</th>\n",
       "      <th>Baseline</th>\n",
       "      <th>JS_Strategy</th>\n",
       "      <th>JB_Strategy</th>\n",
       "      <th>JE_Strategy</th>\n",
       "    </tr>\n",
       "  </thead>\n",
       "  <tbody>\n",
       "    <tr>\n",
       "      <th>0</th>\n",
       "      <td>Equities</td>\n",
       "      <td>SPX</td>\n",
       "      <td>0.5</td>\n",
       "      <td>0.4</td>\n",
       "      <td>0.5</td>\n",
       "      <td>0.45</td>\n",
       "    </tr>\n",
       "    <tr>\n",
       "      <th>1</th>\n",
       "      <td>HighYieldBonds</td>\n",
       "      <td>Bloomberg HighYield</td>\n",
       "      <td>0.0</td>\n",
       "      <td>0.1</td>\n",
       "      <td>0.1</td>\n",
       "      <td>0.10</td>\n",
       "    </tr>\n",
       "    <tr>\n",
       "      <th>2</th>\n",
       "      <td>InvGradeBonds</td>\n",
       "      <td>Bloomberg Agg</td>\n",
       "      <td>0.5</td>\n",
       "      <td>0.5</td>\n",
       "      <td>0.4</td>\n",
       "      <td>0.45</td>\n",
       "    </tr>\n",
       "  </tbody>\n",
       "</table>\n",
       "</div>"
      ],
      "text/plain": [
       "            Asset                Index  Baseline  JS_Strategy  JB_Strategy  \\\n",
       "0        Equities                  SPX       0.5          0.4          0.5   \n",
       "1  HighYieldBonds  Bloomberg HighYield       0.0          0.1          0.1   \n",
       "2   InvGradeBonds        Bloomberg Agg       0.5          0.5          0.4   \n",
       "\n",
       "   JE_Strategy  \n",
       "0         0.45  \n",
       "1         0.10  \n",
       "2         0.45  "
      ]
     },
     "execution_count": 3,
     "metadata": {},
     "output_type": "execute_result"
    }
   ],
   "source": [
    "# Define portfolio allocations\n",
    "allocations_A = {'Equities': 0.50, 'HighYieldBonds': 0.00, 'InvGradeBonds': 0.50}\n",
    "allocations_B = {'Equities': 0.40, 'HighYieldBonds': 0.10, 'InvGradeBonds': 0.50}\n",
    "allocations_C = {'Equities': 0.50, 'HighYieldBonds': 0.10, 'InvGradeBonds': 0.40}\n",
    "allocations_D = {'Equities': 0.45, 'HighYieldBonds': 0.10, 'InvGradeBonds': 0.45}\n",
    "\n",
    "# Create a DataFrame using the allocation variables\n",
    "allocations_df = pd.DataFrame({\n",
    "    'Asset': ['Equities', 'HighYieldBonds', 'InvGradeBonds'],\n",
    "    'Index': ['SPX', 'Bloomberg HighYield', 'Bloomberg Agg'],\n",
    "    'Baseline': [allocations_A['Equities'], allocations_A['HighYieldBonds'], allocations_A['InvGradeBonds']],\n",
    "    'JS_Strategy': [allocations_B['Equities'], allocations_B['HighYieldBonds'], allocations_B['InvGradeBonds']],\n",
    "    'JB_Strategy': [allocations_C['Equities'], allocations_C['HighYieldBonds'], allocations_C['InvGradeBonds']],\n",
    "    'JE_Strategy': [allocations_D['Equities'], allocations_D['HighYieldBonds'], allocations_D['InvGradeBonds']]\n",
    "})\n",
    "allocations_df"
   ]
  },
  {
   "cell_type": "markdown",
   "metadata": {},
   "source": [
    "To arrive at the aftertax figures, we assumed the investor sold everything in the taxable account, \n",
    "generating capital gains at 15%, and withdrew all assets from the tax-sheltered account, requiring \n",
    "regular income taxes at the assumed 22% rate. This simplified aftertax calculation could not occur in the \n",
    "real world. Scenario 2, for instance, would be heavily penalized under these assumptions for a couple of \n",
    "reasons. First, withdrawing $737,902 immediately out of a tax-deferred account puts an investor in the \n",
    "current highest possible tax bracket. This is doubly penalizing because it then bumps up the capital \n",
    "gains tax rate on the $300,000 taxable account to 20% from 15%. Yet it is unlikely that investors would \n",
    "withdraw their invested assets out of the market and retirement accounts all at once. As such, the 22% \n",
    "income and 15% capital gains tax rates reflect the more likely reality that investors face"
   ]
  },
  {
   "cell_type": "code",
   "execution_count": null,
   "metadata": {},
   "outputs": [],
   "source": []
  }
 ],
 "metadata": {
  "kernelspec": {
   "display_name": "Python 3",
   "language": "python",
   "name": "python3"
  },
  "language_info": {
   "codemirror_mode": {
    "name": "ipython",
    "version": 3
   },
   "file_extension": ".py",
   "mimetype": "text/x-python",
   "name": "python",
   "nbconvert_exporter": "python",
   "pygments_lexer": "ipython3",
   "version": "3.12.3"
  }
 },
 "nbformat": 4,
 "nbformat_minor": 2
}
